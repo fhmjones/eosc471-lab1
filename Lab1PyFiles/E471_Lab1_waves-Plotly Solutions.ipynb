{
 "cells": [
  {
   "cell_type": "markdown",
   "id": "a7d84a11",
   "metadata": {
    "deletable": false,
    "editable": false
   },
   "source": [
    "# Lab 1 - Waves and an Introduction to the Live Editor\n",
    "\n",
    "**Table of Contents**\n",
    "\n",
    "[Learning Goals](#learning_goals)\n",
    "\n",
    "1.1 [A Single Wave](#single_wave)\n",
    "\n",
    "1.2 [The sum of two waves](#two_waves)\n",
    "\n",
    "1.3 [Multiple waves](#multi_waves)\n",
    "\n",
    "1.4 [Wave physics](#wave_physics)"
   ]
  },
  {
   "cell_type": "markdown",
   "id": "6ad144be",
   "metadata": {
    "deletable": false,
    "editable": false
   },
   "source": [
    "<a id='learning_goals'></a>\n",
    "## Learning Goals\n",
    "1. To visualize the propagation of single waves and a group of waves\n",
    "2. To see the difference between the group velocity and phase velocity\n",
    "3. To visualize the difference between deep and shallow water gravity waves\n",
    "4. To work with the Jupyter Notebooks"
   ]
  },
  {
   "cell_type": "markdown",
   "id": "49184b95",
   "metadata": {
    "deletable": false,
    "editable": false
   },
   "source": [
    "<a id='single_wave'></a>\n",
    "\n",
    "## 1.1 A Single Wave\n",
    "a) We know that a single wave can be expressed mathematically as\n",
    "\n",
    "$$\\eta(x,t) = A \\cos(kx - \\omega t + \\phi)$$\n",
    "\n",
    "and that $k$ and $\\omega$ are related through a DISPERSION RELATION that contains the physics of the particular wave process we are considering. For example, for deep water waves\n",
    "\n",
    "$$\\omega = \\sqrt{g k}$$\n",
    "\n",
    "$\\phi$ determines the initial state of the wave, that is, where the in space the troughs and crests are at $t=0$. It is called the phase shift.\n",
    "\n",
    "Now, lets use Python to watch the 'propogation' of this wave through space and time:"
   ]
  },
  {
   "cell_type": "markdown",
   "id": "5253f578",
   "metadata": {},
   "source": [
    "**note (to be deleted)** this is a static version of the animation in plotly. next code cell is the animation."
   ]
  },
  {
   "cell_type": "markdown",
   "id": "3a478141",
   "metadata": {},
   "source": [
    "**note (to be deleted)** one of the down sides of plotly is that plotting require more memory. saving an ipynb of this file with all plots generated is over 50mb (larger than the recommended limit for open.jupyter.ubc.ca) vs 25 kb when all the outputs are cleared."
   ]
  },
  {
   "cell_type": "code",
   "execution_count": null,
   "id": "5db340f9",
   "metadata": {},
   "outputs": [],
   "source": [
    "import numpy as np\n",
    "import plotly.express as px\n",
    "import plotly.graph_objs as go\n",
    "\n",
    "k = 0.1  # wavenumber, 1/m\n",
    "a = 1  # amplitude, m\n",
    "phi = 0  # phase shift, between 0 and 2*pi\n",
    "\n",
    "# Fixed parameters for this solution\n",
    "g = 9.81  # acceleration due to gravity, m/s^2\n",
    "x = np.linspace(0, 100, 101)  # spatial coordinate, m\n",
    "t = np.linspace(0, 3, 31)  # time coordinate, s\n",
    "\n",
    "# The dispersion relation\n",
    "w = np.sqrt(g * k)  # angular frequency, 1/second\n",
    "\n",
    "fig = go.Figure()\n",
    "for i in range(len(t)):\n",
    "    eta = a * np.cos(k * x - w * t[i] + phi)\n",
    "    fig.add_scatter(x=x, y=eta, mode='lines', line=dict(width=2), name=f'Time={t[i]:.2f}s')\n",
    "\n",
    "fig.update_layout(xaxis_title=\"x/m\", yaxis_title=\"Amplitude/m\", title=\"Signal Propagation\")\n",
    "fig.show()"
   ]
  },
  {
   "cell_type": "markdown",
   "id": "0fccfca1",
   "metadata": {},
   "source": [
    "**note (to be deleted)** this is what an animation would look like. the buttons are user defined and control animation (see go.layout(updatemenus...\n",
    "Currently have issue where pressing reset while the animation is playing will erase existing traces, but animation will continue, trace names in this scenario still align to correct trace. The play->pause->reset sequence works great and the play->wait for end of animation->reset also works."
   ]
  },
  {
   "cell_type": "code",
   "execution_count": null,
   "id": "49ae5d79",
   "metadata": {},
   "outputs": [],
   "source": [
    "import numpy as np\n",
    "import plotly.graph_objs as go\n",
    "\n",
    "# parameters that define the wave\n",
    "k = 0.1  # wavenumber, 1/m\n",
    "a = 1  # amplitude, m\n",
    "phi = 0  # phase shift, between 0 and 2*pi\n",
    "\n",
    "# Fixed parameters for this solution\n",
    "g = 9.81  # acceleration due to gravity, m/s^2\n",
    "x = np.linspace(0, 100, 101)  # spatial coordinate, m\n",
    "time = np.linspace(0, 3, 31)  # time coordinate, s\n",
    "\n",
    "# The dispersion relation\n",
    "w = np.sqrt(g * k)  # angular frequency, 1/second\n",
    "\n",
    "# Color spectrum from blue to yellow\n",
    "colors = [[i/len(time), \"rgb({0:.0f}, {1:.0f}, {2:.0f})\".format(255*i/len(time), 255*i/len(time), 255 - 255*i/len(time))] for i in range(len(time))]\n",
    "\n",
    "# create a trace for each time step\n",
    "traces = [go.Scatter( name='time: ' + str(i/10) + 's',\n",
    "                      line=dict(color=colors[i][1]))\n",
    "          for i in range(len(time))]\n",
    "\n",
    "# create frames for each time step \n",
    "frames = [dict(data=[dict(type='scatter',\n",
    "                          x=x,\n",
    "                          y=a * np.cos(k * x - w * time[ii] + phi))],\n",
    "               traces=[ii],\n",
    "               ) for ii in range(len(time))]\n",
    "\n",
    "# create the animation\n",
    "layout = go.Layout(\n",
    "    xaxis=dict(title='x/m'),\n",
    "    yaxis=dict(title='Amplitude/m'),\n",
    "    updatemenus=[dict(\n",
    "        type='buttons',\n",
    "        showactive=False,\n",
    "        buttons=[dict(\n",
    "            label='Play',\n",
    "            method='animate',\n",
    "            args=[None, {'frame': {'duration': 1, 'redraw': True},\n",
    "                         'fromcurrent': False,\n",
    "                         'transition': {'duration': 1},\n",
    "                         'mode': 'immediate',\n",
    "                         }]\n",
    "        ),\n",
    "            dict(\n",
    "                label='Pause',\n",
    "                method='animate',\n",
    "                args=[[None], {'frame': {'duration': 3, 'redraw': False},\n",
    "                               'mode': 'immediate', 'transition': {'duration': 30}}]\n",
    "            ),\n",
    "            dict(\n",
    "                label='Reset',\n",
    "                method='update',\n",
    "                args=[{'x': 0,\n",
    "                       'y':0}\n",
    "\n",
    "                      ]\n",
    "            )]\n",
    "\n",
    "    )]\n",
    "\n",
    ")\n",
    "\n",
    "fig = go.Figure(data=traces, frames=frames, layout=layout)\n",
    "fig.show()\n"
   ]
  },
  {
   "cell_type": "markdown",
   "id": "065567c9",
   "metadata": {
    "deletable": false
   },
   "source": [
    "**To run this segment of code us the \"Run\" button at the tob of the page or use Ctrl-Enter (Command-Enter on Mac). Once the plot renders, you can pause and play the animation. Note that you can clear the ouputs by clicking:\n",
    "Cell->Current Outputs->Clear.**\n",
    "\n",
    "**Now answer the questions (Insert your answers in the underline blank)**"
   ]
  },
  {
   "cell_type": "markdown",
   "id": "2b691cc5",
   "metadata": {
    "deletable": false,
    "editable": false
   },
   "source": [
    "**Q1: a:** How fast did the wave move? (estimate from figure)"
   ]
  },
  {
   "cell_type": "markdown",
   "id": "5dc0095c",
   "metadata": {},
   "source": [
    "10 m/s"
   ]
  },
  {
   "cell_type": "markdown",
   "id": "cd7069c6",
   "metadata": {
    "deletable": false,
    "editable": false
   },
   "source": [
    "**b:** Explain how you did the estimation: "
   ]
  },
  {
   "cell_type": "markdown",
   "id": "82461d9a",
   "metadata": {},
   "source": [
    "from the code, the animation is 3 s long, in that time a trough coes from 30 m to 60 m"
   ]
  },
  {
   "cell_type": "markdown",
   "id": "85e6fe86",
   "metadata": {
    "deletable": false,
    "editable": false
   },
   "source": [
    "**Q2:** How fast SHOULD the wave have moved? (Calculate from dispersion relation)"
   ]
  },
  {
   "cell_type": "markdown",
   "id": "251f24cc",
   "metadata": {},
   "source": [
    "9.9 m/s"
   ]
  },
  {
   "cell_type": "markdown",
   "id": "7b6ae2f6",
   "metadata": {
    "deletable": false,
    "editable": false
   },
   "source": [
    "You can use the cell below to write a python code to do the calculation"
   ]
  },
  {
   "cell_type": "code",
   "execution_count": null,
   "id": "d36f1d1e",
   "metadata": {},
   "outputs": [],
   "source": [
    "#this is a cell for coding\n",
    "np.sqrt(g/k)"
   ]
  },
  {
   "cell_type": "markdown",
   "id": "40ca0d22",
   "metadata": {
    "deletable": false,
    "editable": false
   },
   "source": [
    "b) Another useful visualization method is to SAVE the wave shape at all times, and then plot the whole output at once. Here we will look at a spatial domain 10x the size we did above, and for 50x the amount of time:"
   ]
  },
  {
   "cell_type": "markdown",
   "id": "9e9d1c5c",
   "metadata": {},
   "source": [
    "**note (to be deleted)** one of the advantages of plotly is the simple interactivity. matplotlib requires defineing cell types and then will output a clunkier plot. In this case hovering over the heatmap to see values is very user friendly."
   ]
  },
  {
   "cell_type": "code",
   "execution_count": null,
   "id": "6f52ac10",
   "metadata": {},
   "outputs": [],
   "source": [
    "# Fixed parameters for this solution\n",
    "x = np.linspace(0, 1000, 1001)  # m\n",
    "t = np.linspace(0, 100, 201)  # s\n",
    "\n",
    "# For all the remaining parameters, use same values as above,\n",
    "# still saved in memory\n",
    "\n",
    "# Calculate the waves at different times, in a loop\n",
    "eta = np.zeros((len(t), len(x)))  # Pre-allocate space for waveshapes\n",
    "for ii in range(len(t)):\n",
    "    eta[ii,:] = a*np.cos(k*x-w*t[ii] + phi)\n",
    "\n",
    "# Plot the results AFTER the loop\n",
    "fig = go.Figure(data=go.Heatmap(x=x, y=t[::-1], z=eta))\n",
    "fig.update_layout(title='Example 1', xaxis_title='x/m', yaxis_title='t/s',\n",
    "                  width=800, height=800)\n",
    "fig.show()"
   ]
  },
  {
   "cell_type": "markdown",
   "id": "3288de9d",
   "metadata": {
    "deletable": false,
    "editable": false
   },
   "source": [
    "In this figure, bands of constant colour show the propagation of areas of equal height moving rightwards (i.e. to larger x) as time goes on (t increases). Crests and troughs will have different colours.\n",
    "\n",
    "Do you know how to make the waves move LEFTWARDS? (it requires replacing or inserting a single character into the code and re-running this section of code). Make sure you know how to do this, but afterwards return back to the original code.\n"
   ]
  },
  {
   "cell_type": "markdown",
   "id": "41021a9f",
   "metadata": {
    "deletable": false,
    "editable": false
   },
   "source": [
    "**Q3:** What character did you insert, and where?"
   ]
  },
  {
   "cell_type": "markdown",
   "id": "c70df0ad",
   "metadata": {},
   "source": [
    "a minus sign in front of k in the for loop (or change the minus to plus in front of w)"
   ]
  },
  {
   "cell_type": "markdown",
   "id": "1b09296c",
   "metadata": {
    "deletable": false,
    "editable": false
   },
   "source": [
    "c) Now lets try it for a different wavelenght - lets choose a LONGER wavelength (i.e. a SMALLER wavenumber)"
   ]
  },
  {
   "cell_type": "code",
   "execution_count": null,
   "id": "5712032f",
   "metadata": {},
   "outputs": [],
   "source": [
    "k = k/2  # Half the previous wavenumber\n",
    "\n",
    "# Re-calculate this!\n",
    "w = np.sqrt(g*k)\n",
    "\n",
    "for ii in range(len(t)):\n",
    "    eta[ii,:] = a*np.cos(k*x-w*t[ii] + phi)\n",
    "\n",
    "fig = go.Figure(data=go.Heatmap(\n",
    "    x=x,\n",
    "    y=t,\n",
    "    z=eta\n",
    "))\n",
    "\n",
    "fig.update_layout(\n",
    "    xaxis_title='x/m',\n",
    "    yaxis_title='t/s',\n",
    "    yaxis=dict(autorange='reversed'),\n",
    "    title='Example 2',\n",
    "    width=800, \n",
    "    height=800\n",
    ")\n",
    "\n",
    "fig.show()"
   ]
  },
  {
   "cell_type": "markdown",
   "id": "17cb76c1",
   "metadata": {
    "deletable": false,
    "editable": false
   },
   "source": [
    "**Q4:** does the LONGER wavelength move faster...or slower?"
   ]
  },
  {
   "cell_type": "markdown",
   "id": "2a73f621",
   "metadata": {},
   "source": [
    "faster, crest at 0 at time 0 gets to 1000 m in 72 s, whereas for the short wavelength it took 100 s"
   ]
  },
  {
   "cell_type": "markdown",
   "id": "b51df200",
   "metadata": {
    "deletable": false,
    "editable": false
   },
   "source": [
    "**Q5:** CALCULATE the speed by measuring things in the image (if you hover on the image you can get a 'data cursor'on the bottom right which may help):\n",
    "(hint: what is the formula for speed: distance/time"
   ]
  },
  {
   "cell_type": "markdown",
   "id": "a8a6763a",
   "metadata": {
    "deletable": false,
    "editable": false
   },
   "source": [
    "3.a) Speed in example 1:"
   ]
  },
  {
   "cell_type": "markdown",
   "id": "1af9c0c7",
   "metadata": {},
   "source": [
    " 10 m/s"
   ]
  },
  {
   "cell_type": "markdown",
   "id": "2a6e1ae8",
   "metadata": {
    "deletable": false,
    "editable": false
   },
   "source": [
    "NB - you can use the code cell bellow for calculations"
   ]
  },
  {
   "cell_type": "code",
   "execution_count": null,
   "id": "77160c00",
   "metadata": {},
   "outputs": [],
   "source": [
    "# code cell for calculations\n",
    "1000/100"
   ]
  },
  {
   "cell_type": "markdown",
   "id": "820f5161",
   "metadata": {
    "deletable": false,
    "editable": false
   },
   "source": [
    "3.b) Speed in example 2:"
   ]
  },
  {
   "cell_type": "markdown",
   "id": "3864b9cd",
   "metadata": {},
   "source": [
    " 14 m/s"
   ]
  },
  {
   "cell_type": "code",
   "execution_count": null,
   "id": "6ca866fa",
   "metadata": {},
   "outputs": [],
   "source": [
    "# code cell for calculations\n",
    "1000/72"
   ]
  },
  {
   "cell_type": "markdown",
   "id": "b1e5b9cc",
   "metadata": {
    "deletable": false,
    "editable": false
   },
   "source": [
    "<a id='two_waves'></a>\n",
    "\n",
    "## 1.2 The sum of two waves\n",
    "\n",
    "Now we would like to consider a more complicated wave field $$\\eta(x,t) = \\sum_{i=1}^N a_i \\cos( k_i x - \\omega_i t + \\phi_i)$$ that is made up of $N$ simple waves, and we being with $N=2$. The code we have must be modified a little for this. Note the use of rand() for the phases. By using this, the picutre will change slightly each time you run the section"
   ]
  },
  {
   "cell_type": "code",
   "execution_count": null,
   "id": "2aaabc48",
   "metadata": {},
   "outputs": [],
   "source": [
    "# Our inputs\n",
    "k = [0.05, 0.1] # 1/m\n",
    "a = [1, 1] # m\n",
    "phi = np.random.rand(1, 2)[0] * 2 * np.pi # Phases chosen randomly between 0 and 2*pi\n",
    "\n",
    "g = 9.81 # m/s^2\n",
    "x = np.linspace(0, 1000, 1001) # m\n",
    "t = np.linspace(0, 100, 201) # s\n",
    "eta = np.zeros((len(t), len(x)))\n",
    "\n",
    "# The physics\n",
    "w = np.sqrt(np.multiply(g , k))\n",
    "\n",
    "for ii in range(len(t)):  # loop over time\n",
    "    for jj in range(len(k)):  # loop for each wave\n",
    "        eta[ii, :] = eta[ii, :] + a[jj] * np.cos(k[jj] * x - w[jj] * t[ii] + phi[jj])\n",
    "\n",
    "# Draw the summary image\n",
    "fig = go.Figure(data=go.Heatmap(z=eta, x=x, y=t, showscale=True))\n",
    "fig.update_layout(title='Example 3', xaxis_title='x/m', yaxis_title='t/s', yaxis=dict(autorange=\"reversed\"),width=800, height=800)\n",
    "fig.show()"
   ]
  },
  {
   "cell_type": "code",
   "execution_count": null,
   "id": "1e5cca93",
   "metadata": {},
   "outputs": [],
   "source": [
    "fig = go.Figure()\n",
    "fig.add_trace(go.Scatter(x=x, y=eta[-1, :], mode='lines'))\n",
    "fig.update_layout(xaxis_title=\"x/m\", yaxis_title=\"Amplitude/m\", title=\"Example 3\")\n",
    "fig.show()"
   ]
  },
  {
   "cell_type": "markdown",
   "id": "905b0968",
   "metadata": {
    "deletable": false,
    "editable": false
   },
   "source": [
    "Look carefully at the results. You can see that the wave has a copmlciated look, but there is clearly an ENVELOPE (i.e. a region of tall waves) that is moving very slowly, as well as the daster individual waves, which move through the envelope. \n",
    "\n",
    "**Q6 a:** What is the speed of this envelope?"
   ]
  },
  {
   "cell_type": "markdown",
   "id": "14bf1657",
   "metadata": {},
   "source": [
    "6 m/s"
   ]
  },
  {
   "cell_type": "markdown",
   "id": "34a124ad",
   "metadata": {
    "deletable": false,
    "editable": false
   },
   "source": [
    "**b:** Use the cell below to do the calculation and to explain how you did it. You can use # to add comments."
   ]
  },
  {
   "cell_type": "code",
   "execution_count": null,
   "id": "4511ee6d",
   "metadata": {},
   "outputs": [],
   "source": [
    " # Envelop (looks like a blue and yellow stripped candy cane) edge at 0 m\n",
    " # at 0 s, moves to 600 m in 100 s\n",
    " 600/100"
   ]
  },
  {
   "cell_type": "markdown",
   "id": "df9d0596",
   "metadata": {
    "deletable": false,
    "editable": false
   },
   "source": [
    "Compare this speed with the AVERAGE of the speeds of the two different waves that make up the sum (i.e. the values you found earlier in Section 1.1). \n",
    "\n",
    "**Q7:** How is the average speed related to the envelope speed? (half, twice, 3/4, something else...)"
   ]
  },
  {
   "cell_type": "markdown",
   "id": "c0820127",
   "metadata": {},
   "source": [
    "Average speed is twice the envelop speed"
   ]
  },
  {
   "cell_type": "code",
   "execution_count": null,
   "id": "857fb0b7",
   "metadata": {},
   "outputs": [],
   "source": [
    "# code cell\n",
    "average = (10+14)/2"
   ]
  },
  {
   "cell_type": "markdown",
   "id": "f6855a2a",
   "metadata": {
    "deletable": false,
    "editable": false
   },
   "source": [
    "<a id='multi_waves'></a>\n",
    "\n",
    "## 1.3 Multiple waves\n",
    "\n",
    "OK, now lets modify this code to sum up a larger number of waves. Again, by randomizing the phases, the result will look  different each time you run this segment"
   ]
  },
  {
   "cell_type": "code",
   "execution_count": null,
   "id": "fff751f8",
   "metadata": {},
   "outputs": [],
   "source": [
    "%matplotlib notebook\n",
    "# Our inputs\n",
    "k = np.arange(0.05, 0.16, 0.005) #1/m\n",
    "a = np.exp(-(k - 0.1)**2 / 0.02**2) # m\n",
    "phi = np.random.rand(1,len(k))[0] * 2 * np.pi #Randomly between 0 and 2*pi\n",
    "\n",
    "g = 9.81 # m/s^2\n",
    "x = np.linspace(0, 1000, 1001) # m\n",
    "t = np.linspace(0, 100, 201) # s\n",
    "eta = np.zeros((len(t), len(x)))\n",
    "\n",
    "# The physics\n",
    "w = np.sqrt(np.multiply(g , k))\n",
    "\n",
    "for ii in range(len(t)):  # loop over time\n",
    "    for jj in range(len(k)):  # loop for each wave\n",
    "        eta[ii, :] = eta[ii, :] + a[jj] * np.cos(k[jj] * x - w[jj] * t[ii] + phi[jj])\n",
    "\n",
    "# Draw the summary image as before\n",
    "\n",
    "\n",
    "fig = go.Figure(data=go.Heatmap(x=x, y=t, z=eta, zmin=-2, zmax=2, colorscale='Viridis'))\n",
    "\n",
    "fig.update_layout(title=\"Example 4\", xaxis_title=\"x/m\", yaxis_title=\"t/s\", yaxis_autorange='reversed',width=800, height=800)\n",
    "\n",
    "fig.show()"
   ]
  },
  {
   "cell_type": "code",
   "execution_count": null,
   "id": "7e6cb4df",
   "metadata": {},
   "outputs": [],
   "source": [
    "fig = px.line(x=x, y=eta[-1, :], title='Example 4', labels={'x':'x/m', 'y':'Amplitude/m'})\n",
    "fig.show()"
   ]
  },
  {
   "cell_type": "markdown",
   "id": "b916bcae",
   "metadata": {
    "deletable": false,
    "editable": false
   },
   "source": [
    "Run the cells above a number of times.  Although the picture looks different each time, you will always notice that the CRESTS of individual waves are moving at the same speed as that in Example 1. However, these individual waves are sometimes larger and sometimes smaller"
   ]
  },
  {
   "cell_type": "markdown",
   "id": "40a8b2d8",
   "metadata": {
    "deletable": false,
    "editable": false
   },
   "source": [
    "On the other hand, there are GROUPS of wave crests that have larger amplitudes, and groups with smaller amplitudes. The speed of this GROUP is significantly slower.  In fact, the speed of this group can be calculated by taking the DERIVATIVE of the dispersion curve. For a bunch of waves that \"mostly\" have wavenumber $k_o$, the GROUP VELOCITY is: $$c_{group} (k_0) = \\left. \\frac{\\partial \\omega}{\\partial k} \\right|_{k=k_0}$$\n",
    "**Q8:** What is the formula for the group velocity of deep-water waves?"
   ]
  },
  {
   "cell_type": "markdown",
   "id": "f4ab3c79",
   "metadata": {},
   "source": [
    "0.5 * sqrt(g/k)\n",
    "\n",
    "Just type the formula like it was Python code"
   ]
  },
  {
   "cell_type": "markdown",
   "id": "d82d8457",
   "metadata": {
    "deletable": false,
    "editable": false
   },
   "source": [
    " **Q9:** For k=0.1, what is the EXACT CALCULATED group speed?"
   ]
  },
  {
   "cell_type": "markdown",
   "id": "23b6a6b0",
   "metadata": {},
   "source": [
    "5 m/s"
   ]
  },
  {
   "cell_type": "code",
   "execution_count": null,
   "id": "ee145812",
   "metadata": {},
   "outputs": [],
   "source": [
    "# you can use this cell for calculations\n",
    "k = 0.1;\n",
    "0.5*np.sqrt(g/k)"
   ]
  },
  {
   "cell_type": "markdown",
   "id": "e886b1b5",
   "metadata": {
    "deletable": false,
    "editable": false
   },
   "source": [
    "<a id='wave_physics'></a>\n",
    "\n",
    "## 1.4 Wave physics\n",
    "\n",
    "Finally, how does this picture depend on wave physics? Copy in the code from the Example 4 fragment above. Change the titles to Example 5, and now run the calculation for SHALLOW WATER waves in a water depth of H=10 m. Be careful about the dispersion relation!"
   ]
  },
  {
   "cell_type": "code",
   "execution_count": null,
   "id": "a6c06ae9",
   "metadata": {},
   "outputs": [],
   "source": [
    "\n",
    "# Our inputs\n",
    "k = np.arange(0.05, 0.16, 0.005) #1/m\n",
    "a = np.exp(-(k - 0.1)**2 / 0.02**2) # m\n",
    "phi = np.random.rand(1,len(k))[0] * 2 * np.pi #Randomly between 0 and 2*pi\n",
    "\n",
    "g = 9.81 # m/s^2\n",
    "H = 10 # m\n",
    "x = np.linspace(0, 1000, 1001) # m\n",
    "t = np.linspace(0, 100, 201) # s\n",
    "eta = np.zeros((len(t), len(x)))\n",
    "\n",
    "# The physics\n",
    "w = np.sqrt(np.multiply(g*H , k))\n",
    "\n",
    "for ii in range(len(t)):  # loop over time\n",
    "    for jj in range(len(k)):  # loop for each wave\n",
    "        eta[ii, :] = eta[ii, :] + a[jj] * np.cos(k[jj] * x - w[jj] * t[ii] + phi[jj])\n",
    "\n",
    "# Draw the summary image as before\n",
    "\n",
    "fig = go.Figure(data=go.Heatmap(x=x, y=t, z=eta, zmin=-2, zmax=2, colorscale='Viridis'))\n",
    "\n",
    "fig.update_layout(title=\"Example 4\", xaxis_title=\"x/m\", yaxis_title=\"t/s\", yaxis_autorange='reversed',width=800, height=800)\n",
    "\n",
    "fig.show()"
   ]
  },
  {
   "cell_type": "markdown",
   "id": "f354cf6b",
   "metadata": {
    "deletable": false,
    "editable": false
   },
   "source": [
    " **Q10:**  What is the formula for the group velocity for shallow water waves? "
   ]
  },
  {
   "cell_type": "markdown",
   "id": "f14aa805",
   "metadata": {},
   "source": [
    "sqrt(g*H)"
   ]
  },
  {
   "cell_type": "markdown",
   "id": "0b991d85",
   "metadata": {
    "deletable": false,
    "editable": false
   },
   "source": [
    "**Q11:** Is the group velocity for shallow water waves smaller/the same/greater than the phase velocity? "
   ]
  },
  {
   "cell_type": "markdown",
   "id": "0767f395",
   "metadata": {},
   "source": [
    "the same"
   ]
  },
  {
   "cell_type": "markdown",
   "id": "49b19b1a",
   "metadata": {
    "deletable": false,
    "editable": false
   },
   "source": [
    "**TO HAND IN**\n",
    "\n",
    "**Under the FILE menu item press Print Preview.**\n",
    "\n",
    "**A new tab will open up, press ctrl+p (Cmd+P on mac) on your keyboard and save as a PDF under the name E471_Lab1_YOURLASTNAME.pdf (no spaces).**\n",
    "\n",
    "**Due THURSDAY 6pm!**\n",
    "\n",
    "**SUBMIT this code via CANVAS**"
   ]
  }
 ],
 "metadata": {
  "celltoolbar": "Edit Metadata",
  "kernelspec": {
   "display_name": "Python 3 (ipykernel)",
   "language": "python",
   "name": "python3"
  },
  "language_info": {
   "codemirror_mode": {
    "name": "ipython",
    "version": 3
   },
   "file_extension": ".py",
   "mimetype": "text/x-python",
   "name": "python",
   "nbconvert_exporter": "python",
   "pygments_lexer": "ipython3",
   "version": "3.9.13"
  },
  "showEditorForReadOnlyMarkdown": false
 },
 "nbformat": 4,
 "nbformat_minor": 5
}
